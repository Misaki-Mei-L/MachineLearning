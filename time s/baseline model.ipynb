{
 "cells": [
  {
   "cell_type": "code",
   "execution_count": 100,
   "outputs": [
    {
     "data": {
      "text/plain": "            Date      Price       Open       High        Low  Amount  Return  \\\n0     2012/12/10       13.4       13.4       13.6       13.3   24.67  0.0000   \n1     2012/12/11       13.6       13.4       13.7       13.3   28.05  0.0097   \n2     2012/12/12       13.7       13.6       13.8       13.3   37.68  0.0103   \n3     2012/12/13       13.7       13.7       13.8       13.5   24.20  0.0000   \n4     2012/12/14       13.6       13.7       13.9         13   70.14 -0.0073   \n...          ...        ...        ...        ...        ...     ...     ...   \n3648   2022/12/6  17,089.30  16,966.30  17,101.10  16,914.90  246.19  0.0072   \n3649   2022/12/7  16,835.20  17,089.40  17,126.70  16,715.30  244.36 -0.0149   \n3650   2022/12/8  17,225.70  16,835.20  17,294.20  16,765.80  261.64  0.0232   \n3651   2022/12/9  17,125.70  17,225.60  17,288.60  17,082.10  260.84 -0.0058   \n3652  2022/12/10  17,147.80  17,125.70  17,164.20  17,121.30  245.75  0.0013   \n\n      lagr_1  lagr_2  lagr_3  lagr_4  lagr_5  \n0        NaN     NaN     NaN     NaN     NaN  \n1     0.0000     NaN     NaN     NaN     NaN  \n2     0.0097  0.0000     NaN     NaN     NaN  \n3     0.0103  0.0097  0.0000     NaN     NaN  \n4     0.0000  0.0103  0.0097  0.0000     NaN  \n...      ...     ...     ...     ...     ...  \n3648 -0.0085  0.0135 -0.0122  0.0072 -0.0112  \n3649  0.0072 -0.0085  0.0135 -0.0122  0.0072  \n3650 -0.0149  0.0072 -0.0085  0.0135 -0.0122  \n3651  0.0232 -0.0149  0.0072 -0.0085  0.0135  \n3652 -0.0058  0.0232 -0.0149  0.0072 -0.0085  \n\n[3653 rows x 12 columns]",
      "text/html": "<div>\n<style scoped>\n    .dataframe tbody tr th:only-of-type {\n        vertical-align: middle;\n    }\n\n    .dataframe tbody tr th {\n        vertical-align: top;\n    }\n\n    .dataframe thead th {\n        text-align: right;\n    }\n</style>\n<table border=\"1\" class=\"dataframe\">\n  <thead>\n    <tr style=\"text-align: right;\">\n      <th></th>\n      <th>Date</th>\n      <th>Price</th>\n      <th>Open</th>\n      <th>High</th>\n      <th>Low</th>\n      <th>Amount</th>\n      <th>Return</th>\n      <th>lagr_1</th>\n      <th>lagr_2</th>\n      <th>lagr_3</th>\n      <th>lagr_4</th>\n      <th>lagr_5</th>\n    </tr>\n  </thead>\n  <tbody>\n    <tr>\n      <th>0</th>\n      <td>2012/12/10</td>\n      <td>13.4</td>\n      <td>13.4</td>\n      <td>13.6</td>\n      <td>13.3</td>\n      <td>24.67</td>\n      <td>0.0000</td>\n      <td>NaN</td>\n      <td>NaN</td>\n      <td>NaN</td>\n      <td>NaN</td>\n      <td>NaN</td>\n    </tr>\n    <tr>\n      <th>1</th>\n      <td>2012/12/11</td>\n      <td>13.6</td>\n      <td>13.4</td>\n      <td>13.7</td>\n      <td>13.3</td>\n      <td>28.05</td>\n      <td>0.0097</td>\n      <td>0.0000</td>\n      <td>NaN</td>\n      <td>NaN</td>\n      <td>NaN</td>\n      <td>NaN</td>\n    </tr>\n    <tr>\n      <th>2</th>\n      <td>2012/12/12</td>\n      <td>13.7</td>\n      <td>13.6</td>\n      <td>13.8</td>\n      <td>13.3</td>\n      <td>37.68</td>\n      <td>0.0103</td>\n      <td>0.0097</td>\n      <td>0.0000</td>\n      <td>NaN</td>\n      <td>NaN</td>\n      <td>NaN</td>\n    </tr>\n    <tr>\n      <th>3</th>\n      <td>2012/12/13</td>\n      <td>13.7</td>\n      <td>13.7</td>\n      <td>13.8</td>\n      <td>13.5</td>\n      <td>24.20</td>\n      <td>0.0000</td>\n      <td>0.0103</td>\n      <td>0.0097</td>\n      <td>0.0000</td>\n      <td>NaN</td>\n      <td>NaN</td>\n    </tr>\n    <tr>\n      <th>4</th>\n      <td>2012/12/14</td>\n      <td>13.6</td>\n      <td>13.7</td>\n      <td>13.9</td>\n      <td>13</td>\n      <td>70.14</td>\n      <td>-0.0073</td>\n      <td>0.0000</td>\n      <td>0.0103</td>\n      <td>0.0097</td>\n      <td>0.0000</td>\n      <td>NaN</td>\n    </tr>\n    <tr>\n      <th>...</th>\n      <td>...</td>\n      <td>...</td>\n      <td>...</td>\n      <td>...</td>\n      <td>...</td>\n      <td>...</td>\n      <td>...</td>\n      <td>...</td>\n      <td>...</td>\n      <td>...</td>\n      <td>...</td>\n      <td>...</td>\n    </tr>\n    <tr>\n      <th>3648</th>\n      <td>2022/12/6</td>\n      <td>17,089.30</td>\n      <td>16,966.30</td>\n      <td>17,101.10</td>\n      <td>16,914.90</td>\n      <td>246.19</td>\n      <td>0.0072</td>\n      <td>-0.0085</td>\n      <td>0.0135</td>\n      <td>-0.0122</td>\n      <td>0.0072</td>\n      <td>-0.0112</td>\n    </tr>\n    <tr>\n      <th>3649</th>\n      <td>2022/12/7</td>\n      <td>16,835.20</td>\n      <td>17,089.40</td>\n      <td>17,126.70</td>\n      <td>16,715.30</td>\n      <td>244.36</td>\n      <td>-0.0149</td>\n      <td>0.0072</td>\n      <td>-0.0085</td>\n      <td>0.0135</td>\n      <td>-0.0122</td>\n      <td>0.0072</td>\n    </tr>\n    <tr>\n      <th>3650</th>\n      <td>2022/12/8</td>\n      <td>17,225.70</td>\n      <td>16,835.20</td>\n      <td>17,294.20</td>\n      <td>16,765.80</td>\n      <td>261.64</td>\n      <td>0.0232</td>\n      <td>-0.0149</td>\n      <td>0.0072</td>\n      <td>-0.0085</td>\n      <td>0.0135</td>\n      <td>-0.0122</td>\n    </tr>\n    <tr>\n      <th>3651</th>\n      <td>2022/12/9</td>\n      <td>17,125.70</td>\n      <td>17,225.60</td>\n      <td>17,288.60</td>\n      <td>17,082.10</td>\n      <td>260.84</td>\n      <td>-0.0058</td>\n      <td>0.0232</td>\n      <td>-0.0149</td>\n      <td>0.0072</td>\n      <td>-0.0085</td>\n      <td>0.0135</td>\n    </tr>\n    <tr>\n      <th>3652</th>\n      <td>2022/12/10</td>\n      <td>17,147.80</td>\n      <td>17,125.70</td>\n      <td>17,164.20</td>\n      <td>17,121.30</td>\n      <td>245.75</td>\n      <td>0.0013</td>\n      <td>-0.0058</td>\n      <td>0.0232</td>\n      <td>-0.0149</td>\n      <td>0.0072</td>\n      <td>-0.0085</td>\n    </tr>\n  </tbody>\n</table>\n<p>3653 rows × 12 columns</p>\n</div>"
     },
     "execution_count": 100,
     "metadata": {},
     "output_type": "execute_result"
    }
   ],
   "source": [
    "import pandas as pd\n",
    "df=pd.read_csv('bitcon1.csv')\n",
    "for i in range(1,6):\n",
    "    df['lagr_'+str(i)]=df['Retur' \\\n",
    "                          'n'].shift(i)\n",
    "df"
   ],
   "metadata": {
    "collapsed": false,
    "pycharm": {
     "name": "#%%\n"
    }
   }
  },
  {
   "cell_type": "code",
   "execution_count": 101,
   "outputs": [],
   "source": [
    "import numpy as np"
   ],
   "metadata": {
    "collapsed": false,
    "pycharm": {
     "name": "#%%\n"
    }
   }
  },
  {
   "cell_type": "code",
   "execution_count": 102,
   "outputs": [
    {
     "data": {
      "text/plain": "           Date      Price       Open       High        Low  Amount  Return  \\\n0    2012-12-10       13.4       13.4       13.6       13.3   24.67  0.0000   \n1    2012-12-11       13.6       13.4       13.7       13.3   28.05  0.0097   \n2    2012-12-12       13.7       13.6       13.8       13.3   37.68  0.0103   \n3    2012-12-13       13.7       13.7       13.8       13.5   24.20  0.0000   \n4    2012-12-14       13.6       13.7       13.9         13   70.14 -0.0073   \n...         ...        ...        ...        ...        ...     ...     ...   \n3648 2022-12-06  17,089.30  16,966.30  17,101.10  16,914.90  246.19  0.0072   \n3649 2022-12-07  16,835.20  17,089.40  17,126.70  16,715.30  244.36 -0.0149   \n3650 2022-12-08  17,225.70  16,835.20  17,294.20  16,765.80  261.64  0.0232   \n3651 2022-12-09  17,125.70  17,225.60  17,288.60  17,082.10  260.84 -0.0058   \n3652 2022-12-10  17,147.80  17,125.70  17,164.20  17,121.30  245.75  0.0013   \n\n      lagr_1  lagr_2  lagr_3  lagr_4  lagr_5  \n0        NaN     NaN     NaN     NaN     NaN  \n1     0.0000     NaN     NaN     NaN     NaN  \n2     0.0097  0.0000     NaN     NaN     NaN  \n3     0.0103  0.0097  0.0000     NaN     NaN  \n4     0.0000  0.0103  0.0097  0.0000     NaN  \n...      ...     ...     ...     ...     ...  \n3648 -0.0085  0.0135 -0.0122  0.0072 -0.0112  \n3649  0.0072 -0.0085  0.0135 -0.0122  0.0072  \n3650 -0.0149  0.0072 -0.0085  0.0135 -0.0122  \n3651  0.0232 -0.0149  0.0072 -0.0085  0.0135  \n3652 -0.0058  0.0232 -0.0149  0.0072 -0.0085  \n\n[3653 rows x 12 columns]",
      "text/html": "<div>\n<style scoped>\n    .dataframe tbody tr th:only-of-type {\n        vertical-align: middle;\n    }\n\n    .dataframe tbody tr th {\n        vertical-align: top;\n    }\n\n    .dataframe thead th {\n        text-align: right;\n    }\n</style>\n<table border=\"1\" class=\"dataframe\">\n  <thead>\n    <tr style=\"text-align: right;\">\n      <th></th>\n      <th>Date</th>\n      <th>Price</th>\n      <th>Open</th>\n      <th>High</th>\n      <th>Low</th>\n      <th>Amount</th>\n      <th>Return</th>\n      <th>lagr_1</th>\n      <th>lagr_2</th>\n      <th>lagr_3</th>\n      <th>lagr_4</th>\n      <th>lagr_5</th>\n    </tr>\n  </thead>\n  <tbody>\n    <tr>\n      <th>0</th>\n      <td>2012-12-10</td>\n      <td>13.4</td>\n      <td>13.4</td>\n      <td>13.6</td>\n      <td>13.3</td>\n      <td>24.67</td>\n      <td>0.0000</td>\n      <td>NaN</td>\n      <td>NaN</td>\n      <td>NaN</td>\n      <td>NaN</td>\n      <td>NaN</td>\n    </tr>\n    <tr>\n      <th>1</th>\n      <td>2012-12-11</td>\n      <td>13.6</td>\n      <td>13.4</td>\n      <td>13.7</td>\n      <td>13.3</td>\n      <td>28.05</td>\n      <td>0.0097</td>\n      <td>0.0000</td>\n      <td>NaN</td>\n      <td>NaN</td>\n      <td>NaN</td>\n      <td>NaN</td>\n    </tr>\n    <tr>\n      <th>2</th>\n      <td>2012-12-12</td>\n      <td>13.7</td>\n      <td>13.6</td>\n      <td>13.8</td>\n      <td>13.3</td>\n      <td>37.68</td>\n      <td>0.0103</td>\n      <td>0.0097</td>\n      <td>0.0000</td>\n      <td>NaN</td>\n      <td>NaN</td>\n      <td>NaN</td>\n    </tr>\n    <tr>\n      <th>3</th>\n      <td>2012-12-13</td>\n      <td>13.7</td>\n      <td>13.7</td>\n      <td>13.8</td>\n      <td>13.5</td>\n      <td>24.20</td>\n      <td>0.0000</td>\n      <td>0.0103</td>\n      <td>0.0097</td>\n      <td>0.0000</td>\n      <td>NaN</td>\n      <td>NaN</td>\n    </tr>\n    <tr>\n      <th>4</th>\n      <td>2012-12-14</td>\n      <td>13.6</td>\n      <td>13.7</td>\n      <td>13.9</td>\n      <td>13</td>\n      <td>70.14</td>\n      <td>-0.0073</td>\n      <td>0.0000</td>\n      <td>0.0103</td>\n      <td>0.0097</td>\n      <td>0.0000</td>\n      <td>NaN</td>\n    </tr>\n    <tr>\n      <th>...</th>\n      <td>...</td>\n      <td>...</td>\n      <td>...</td>\n      <td>...</td>\n      <td>...</td>\n      <td>...</td>\n      <td>...</td>\n      <td>...</td>\n      <td>...</td>\n      <td>...</td>\n      <td>...</td>\n      <td>...</td>\n    </tr>\n    <tr>\n      <th>3648</th>\n      <td>2022-12-06</td>\n      <td>17,089.30</td>\n      <td>16,966.30</td>\n      <td>17,101.10</td>\n      <td>16,914.90</td>\n      <td>246.19</td>\n      <td>0.0072</td>\n      <td>-0.0085</td>\n      <td>0.0135</td>\n      <td>-0.0122</td>\n      <td>0.0072</td>\n      <td>-0.0112</td>\n    </tr>\n    <tr>\n      <th>3649</th>\n      <td>2022-12-07</td>\n      <td>16,835.20</td>\n      <td>17,089.40</td>\n      <td>17,126.70</td>\n      <td>16,715.30</td>\n      <td>244.36</td>\n      <td>-0.0149</td>\n      <td>0.0072</td>\n      <td>-0.0085</td>\n      <td>0.0135</td>\n      <td>-0.0122</td>\n      <td>0.0072</td>\n    </tr>\n    <tr>\n      <th>3650</th>\n      <td>2022-12-08</td>\n      <td>17,225.70</td>\n      <td>16,835.20</td>\n      <td>17,294.20</td>\n      <td>16,765.80</td>\n      <td>261.64</td>\n      <td>0.0232</td>\n      <td>-0.0149</td>\n      <td>0.0072</td>\n      <td>-0.0085</td>\n      <td>0.0135</td>\n      <td>-0.0122</td>\n    </tr>\n    <tr>\n      <th>3651</th>\n      <td>2022-12-09</td>\n      <td>17,125.70</td>\n      <td>17,225.60</td>\n      <td>17,288.60</td>\n      <td>17,082.10</td>\n      <td>260.84</td>\n      <td>-0.0058</td>\n      <td>0.0232</td>\n      <td>-0.0149</td>\n      <td>0.0072</td>\n      <td>-0.0085</td>\n      <td>0.0135</td>\n    </tr>\n    <tr>\n      <th>3652</th>\n      <td>2022-12-10</td>\n      <td>17,147.80</td>\n      <td>17,125.70</td>\n      <td>17,164.20</td>\n      <td>17,121.30</td>\n      <td>245.75</td>\n      <td>0.0013</td>\n      <td>-0.0058</td>\n      <td>0.0232</td>\n      <td>-0.0149</td>\n      <td>0.0072</td>\n      <td>-0.0085</td>\n    </tr>\n  </tbody>\n</table>\n<p>3653 rows × 12 columns</p>\n</div>"
     },
     "execution_count": 102,
     "metadata": {},
     "output_type": "execute_result"
    }
   ],
   "source": [
    "df.Date=pd.to_datetime(df.Date)\n",
    "df"
   ],
   "metadata": {
    "collapsed": false,
    "pycharm": {
     "name": "#%%\n"
    }
   }
  },
  {
   "cell_type": "code",
   "execution_count": 103,
   "outputs": [],
   "source": [
    "df.set_index('Date',inplace=True)"
   ],
   "metadata": {
    "collapsed": false,
    "pycharm": {
     "name": "#%%\n"
    }
   }
  },
  {
   "cell_type": "code",
   "execution_count": 104,
   "outputs": [],
   "source": [
    "train_part=df.loc['2012-12-15':'2019-12-10',['Return','lagr_1','lagr_2','lagr_3','lagr_4','lagr_5']]\n",
    "test_part=df.loc['2019-12-11':,['Return','lagr_1','lagr_2','lagr_3','lagr_4','lagr_5']]"
   ],
   "metadata": {
    "collapsed": false,
    "pycharm": {
     "name": "#%%\n"
    }
   }
  },
  {
   "cell_type": "code",
   "execution_count": 105,
   "outputs": [
    {
     "data": {
      "text/plain": "            Return  lagr_1  lagr_2  lagr_3  lagr_4  lagr_5\nDate                                                      \n2012-12-15 -0.0081 -0.0073  0.0000  0.0103  0.0097  0.0000\n2012-12-16 -0.0141 -0.0081 -0.0073  0.0000  0.0103  0.0097\n2012-12-17 -0.0038 -0.0141 -0.0081 -0.0073  0.0000  0.0103\n2012-12-18  0.0038 -0.0038 -0.0141 -0.0081 -0.0073  0.0000\n2012-12-19  0.0226  0.0038 -0.0038 -0.0141 -0.0081 -0.0073\n...            ...     ...     ...     ...     ...     ...\n2019-12-06  0.0178  0.0270 -0.0120 -0.0009 -0.0133 -0.0199\n2019-12-07 -0.0026  0.0178  0.0270 -0.0120 -0.0009 -0.0133\n2019-12-08  0.0018 -0.0026  0.0178  0.0270 -0.0120 -0.0009\n2019-12-09 -0.0224  0.0018 -0.0026  0.0178  0.0270 -0.0120\n2019-12-10 -0.0163 -0.0224  0.0018 -0.0026  0.0178  0.0270\n\n[2552 rows x 6 columns]",
      "text/html": "<div>\n<style scoped>\n    .dataframe tbody tr th:only-of-type {\n        vertical-align: middle;\n    }\n\n    .dataframe tbody tr th {\n        vertical-align: top;\n    }\n\n    .dataframe thead th {\n        text-align: right;\n    }\n</style>\n<table border=\"1\" class=\"dataframe\">\n  <thead>\n    <tr style=\"text-align: right;\">\n      <th></th>\n      <th>Return</th>\n      <th>lagr_1</th>\n      <th>lagr_2</th>\n      <th>lagr_3</th>\n      <th>lagr_4</th>\n      <th>lagr_5</th>\n    </tr>\n    <tr>\n      <th>Date</th>\n      <th></th>\n      <th></th>\n      <th></th>\n      <th></th>\n      <th></th>\n      <th></th>\n    </tr>\n  </thead>\n  <tbody>\n    <tr>\n      <th>2012-12-15</th>\n      <td>-0.0081</td>\n      <td>-0.0073</td>\n      <td>0.0000</td>\n      <td>0.0103</td>\n      <td>0.0097</td>\n      <td>0.0000</td>\n    </tr>\n    <tr>\n      <th>2012-12-16</th>\n      <td>-0.0141</td>\n      <td>-0.0081</td>\n      <td>-0.0073</td>\n      <td>0.0000</td>\n      <td>0.0103</td>\n      <td>0.0097</td>\n    </tr>\n    <tr>\n      <th>2012-12-17</th>\n      <td>-0.0038</td>\n      <td>-0.0141</td>\n      <td>-0.0081</td>\n      <td>-0.0073</td>\n      <td>0.0000</td>\n      <td>0.0103</td>\n    </tr>\n    <tr>\n      <th>2012-12-18</th>\n      <td>0.0038</td>\n      <td>-0.0038</td>\n      <td>-0.0141</td>\n      <td>-0.0081</td>\n      <td>-0.0073</td>\n      <td>0.0000</td>\n    </tr>\n    <tr>\n      <th>2012-12-19</th>\n      <td>0.0226</td>\n      <td>0.0038</td>\n      <td>-0.0038</td>\n      <td>-0.0141</td>\n      <td>-0.0081</td>\n      <td>-0.0073</td>\n    </tr>\n    <tr>\n      <th>...</th>\n      <td>...</td>\n      <td>...</td>\n      <td>...</td>\n      <td>...</td>\n      <td>...</td>\n      <td>...</td>\n    </tr>\n    <tr>\n      <th>2019-12-06</th>\n      <td>0.0178</td>\n      <td>0.0270</td>\n      <td>-0.0120</td>\n      <td>-0.0009</td>\n      <td>-0.0133</td>\n      <td>-0.0199</td>\n    </tr>\n    <tr>\n      <th>2019-12-07</th>\n      <td>-0.0026</td>\n      <td>0.0178</td>\n      <td>0.0270</td>\n      <td>-0.0120</td>\n      <td>-0.0009</td>\n      <td>-0.0133</td>\n    </tr>\n    <tr>\n      <th>2019-12-08</th>\n      <td>0.0018</td>\n      <td>-0.0026</td>\n      <td>0.0178</td>\n      <td>0.0270</td>\n      <td>-0.0120</td>\n      <td>-0.0009</td>\n    </tr>\n    <tr>\n      <th>2019-12-09</th>\n      <td>-0.0224</td>\n      <td>0.0018</td>\n      <td>-0.0026</td>\n      <td>0.0178</td>\n      <td>0.0270</td>\n      <td>-0.0120</td>\n    </tr>\n    <tr>\n      <th>2019-12-10</th>\n      <td>-0.0163</td>\n      <td>-0.0224</td>\n      <td>0.0018</td>\n      <td>-0.0026</td>\n      <td>0.0178</td>\n      <td>0.0270</td>\n    </tr>\n  </tbody>\n</table>\n<p>2552 rows × 6 columns</p>\n</div>"
     },
     "execution_count": 105,
     "metadata": {},
     "output_type": "execute_result"
    }
   ],
   "source": [
    "train_part"
   ],
   "metadata": {
    "collapsed": false,
    "pycharm": {
     "name": "#%%\n"
    }
   }
  },
  {
   "cell_type": "code",
   "execution_count": 106,
   "outputs": [
    {
     "data": {
      "text/plain": "            Return  lagr_1  lagr_2  lagr_3  lagr_4  lagr_5\nDate                                                      \n2019-12-11 -0.0038 -0.0163 -0.0224  0.0018 -0.0026  0.0178\n2019-12-12  0.0000 -0.0038 -0.0163 -0.0224  0.0018 -0.0026\n2019-12-13  0.0065  0.0000 -0.0038 -0.0163 -0.0224  0.0018\n2019-12-14 -0.0240  0.0065  0.0000 -0.0038 -0.0163 -0.0224\n2019-12-15  0.0067 -0.0240  0.0065  0.0000 -0.0038 -0.0163\n...            ...     ...     ...     ...     ...     ...\n2022-12-06  0.0072 -0.0085  0.0135 -0.0122  0.0072 -0.0112\n2022-12-07 -0.0149  0.0072 -0.0085  0.0135 -0.0122  0.0072\n2022-12-08  0.0232 -0.0149  0.0072 -0.0085  0.0135 -0.0122\n2022-12-09 -0.0058  0.0232 -0.0149  0.0072 -0.0085  0.0135\n2022-12-10  0.0013 -0.0058  0.0232 -0.0149  0.0072 -0.0085\n\n[1096 rows x 6 columns]",
      "text/html": "<div>\n<style scoped>\n    .dataframe tbody tr th:only-of-type {\n        vertical-align: middle;\n    }\n\n    .dataframe tbody tr th {\n        vertical-align: top;\n    }\n\n    .dataframe thead th {\n        text-align: right;\n    }\n</style>\n<table border=\"1\" class=\"dataframe\">\n  <thead>\n    <tr style=\"text-align: right;\">\n      <th></th>\n      <th>Return</th>\n      <th>lagr_1</th>\n      <th>lagr_2</th>\n      <th>lagr_3</th>\n      <th>lagr_4</th>\n      <th>lagr_5</th>\n    </tr>\n    <tr>\n      <th>Date</th>\n      <th></th>\n      <th></th>\n      <th></th>\n      <th></th>\n      <th></th>\n      <th></th>\n    </tr>\n  </thead>\n  <tbody>\n    <tr>\n      <th>2019-12-11</th>\n      <td>-0.0038</td>\n      <td>-0.0163</td>\n      <td>-0.0224</td>\n      <td>0.0018</td>\n      <td>-0.0026</td>\n      <td>0.0178</td>\n    </tr>\n    <tr>\n      <th>2019-12-12</th>\n      <td>0.0000</td>\n      <td>-0.0038</td>\n      <td>-0.0163</td>\n      <td>-0.0224</td>\n      <td>0.0018</td>\n      <td>-0.0026</td>\n    </tr>\n    <tr>\n      <th>2019-12-13</th>\n      <td>0.0065</td>\n      <td>0.0000</td>\n      <td>-0.0038</td>\n      <td>-0.0163</td>\n      <td>-0.0224</td>\n      <td>0.0018</td>\n    </tr>\n    <tr>\n      <th>2019-12-14</th>\n      <td>-0.0240</td>\n      <td>0.0065</td>\n      <td>0.0000</td>\n      <td>-0.0038</td>\n      <td>-0.0163</td>\n      <td>-0.0224</td>\n    </tr>\n    <tr>\n      <th>2019-12-15</th>\n      <td>0.0067</td>\n      <td>-0.0240</td>\n      <td>0.0065</td>\n      <td>0.0000</td>\n      <td>-0.0038</td>\n      <td>-0.0163</td>\n    </tr>\n    <tr>\n      <th>...</th>\n      <td>...</td>\n      <td>...</td>\n      <td>...</td>\n      <td>...</td>\n      <td>...</td>\n      <td>...</td>\n    </tr>\n    <tr>\n      <th>2022-12-06</th>\n      <td>0.0072</td>\n      <td>-0.0085</td>\n      <td>0.0135</td>\n      <td>-0.0122</td>\n      <td>0.0072</td>\n      <td>-0.0112</td>\n    </tr>\n    <tr>\n      <th>2022-12-07</th>\n      <td>-0.0149</td>\n      <td>0.0072</td>\n      <td>-0.0085</td>\n      <td>0.0135</td>\n      <td>-0.0122</td>\n      <td>0.0072</td>\n    </tr>\n    <tr>\n      <th>2022-12-08</th>\n      <td>0.0232</td>\n      <td>-0.0149</td>\n      <td>0.0072</td>\n      <td>-0.0085</td>\n      <td>0.0135</td>\n      <td>-0.0122</td>\n    </tr>\n    <tr>\n      <th>2022-12-09</th>\n      <td>-0.0058</td>\n      <td>0.0232</td>\n      <td>-0.0149</td>\n      <td>0.0072</td>\n      <td>-0.0085</td>\n      <td>0.0135</td>\n    </tr>\n    <tr>\n      <th>2022-12-10</th>\n      <td>0.0013</td>\n      <td>-0.0058</td>\n      <td>0.0232</td>\n      <td>-0.0149</td>\n      <td>0.0072</td>\n      <td>-0.0085</td>\n    </tr>\n  </tbody>\n</table>\n<p>1096 rows × 6 columns</p>\n</div>"
     },
     "execution_count": 106,
     "metadata": {},
     "output_type": "execute_result"
    }
   ],
   "source": [
    "test_part"
   ],
   "metadata": {
    "collapsed": false,
    "pycharm": {
     "name": "#%%\n"
    }
   }
  },
  {
   "cell_type": "code",
   "execution_count": 107,
   "outputs": [],
   "source": [
    "train_part=train_part.applymap(lambda x:x*10)\n",
    "test_part=test_part.applymap(lambda x:x*10)"
   ],
   "metadata": {
    "collapsed": false,
    "pycharm": {
     "name": "#%%\n"
    }
   }
  },
  {
   "cell_type": "code",
   "execution_count": 108,
   "outputs": [
    {
     "data": {
      "text/plain": "(2552, 6)"
     },
     "execution_count": 108,
     "metadata": {},
     "output_type": "execute_result"
    }
   ],
   "source": [
    "train_part\n",
    "train_part.shape"
   ],
   "metadata": {
    "collapsed": false,
    "pycharm": {
     "name": "#%%\n"
    }
   }
  },
  {
   "cell_type": "code",
   "execution_count": 109,
   "outputs": [],
   "source": [
    "X_train,Y_train=[],[]\n",
    "for i in range(5,2552):\n",
    "    X_train.append(train_part.iloc[i-5:i,1:])\n",
    "    Y_train.append(train_part.iloc[i,:1])\n",
    "\n",
    "X_train,Y_train=np.array(X_train),np.array(Y_train)"
   ],
   "metadata": {
    "collapsed": false,
    "pycharm": {
     "name": "#%%\n"
    }
   }
  },
  {
   "cell_type": "code",
   "execution_count": 110,
   "outputs": [],
   "source": [
    "X_test,Y_test=[],[]\n",
    "for i in range(5,1096):\n",
    "    X_test.append(test_part.iloc[i-5:i,1:])\n",
    "    Y_test.append(test_part.iloc[i,:1])\n",
    "\n",
    "X_test,Y_test=np.array(X_test),np.array(Y_test)"
   ],
   "metadata": {
    "collapsed": false,
    "pycharm": {
     "name": "#%%\n"
    }
   }
  },
  {
   "cell_type": "markdown",
   "source": [],
   "metadata": {
    "collapsed": false
   }
  },
  {
   "cell_type": "code",
   "execution_count": 111,
   "outputs": [],
   "source": [
    "from keras.models import Sequential\n",
    "from keras.layers.core import Dense, Dropout, Activation\n",
    "from keras.layers import LSTM\n",
    "from keras.models import load_model\n",
    "from keras.layers import RepeatVector\n",
    "import keras"
   ],
   "metadata": {
    "collapsed": false,
    "pycharm": {
     "name": "#%%\n"
    }
   }
  },
  {
   "cell_type": "code",
   "execution_count": 112,
   "outputs": [
    {
     "data": {
      "text/plain": "5"
     },
     "execution_count": 112,
     "metadata": {},
     "output_type": "execute_result"
    }
   ],
   "source": [
    "X_train.shape[2]"
   ],
   "metadata": {
    "collapsed": false,
    "pycharm": {
     "name": "#%%\n"
    }
   }
  },
  {
   "cell_type": "code",
   "execution_count": 113,
   "outputs": [
    {
     "name": "stdout",
     "output_type": "stream",
     "text": [
      "Model: \"sequential_3\"\n",
      "_________________________________________________________________\n",
      " Layer (type)                Output Shape              Param #   \n",
      "=================================================================\n",
      " lstm_3 (LSTM)               (None, 5, 128)            68608     \n",
      "                                                                 \n",
      " dense_6 (Dense)             (None, 5, 16)             2064      \n",
      "                                                                 \n",
      " dense_7 (Dense)             (None, 5, 1)              17        \n",
      "                                                                 \n",
      "=================================================================\n",
      "Total params: 70,689\n",
      "Trainable params: 70,689\n",
      "Non-trainable params: 0\n",
      "_________________________________________________________________\n"
     ]
    }
   ],
   "source": [
    "model = Sequential()\n",
    "model.add(LSTM(128, input_shape=(X_train.shape[1], X_train.shape[2]), return_sequences=True))\n",
    "model.add(Dense(16,kernel_initializer=\"uniform\",activation='relu'))\n",
    "model.add(Dense(1,kernel_initializer=\"uniform\",activation='linear'))\n",
    "\n",
    "adam = keras.optimizers.Adam(decay=0.2)\n",
    "\n",
    "model.compile(loss='mse', optimizer='adam', metrics=['accuracy'])\n",
    "model.summary()"
   ],
   "metadata": {
    "collapsed": false,
    "pycharm": {
     "name": "#%%\n"
    }
   }
  },
  {
   "cell_type": "code",
   "execution_count": 114,
   "outputs": [
    {
     "name": "stdout",
     "output_type": "stream",
     "text": [
      "(2547, 5, 5) (2547, 1)\n",
      "Epoch 1/300\n",
      "80/80 - 2s - loss: 0.7532 - accuracy: 0.0082 - 2s/epoch - 19ms/step\n",
      "Epoch 2/300\n",
      "80/80 - 0s - loss: 0.7513 - accuracy: 0.0082 - 260ms/epoch - 3ms/step\n",
      "Epoch 3/300\n",
      "80/80 - 0s - loss: 0.7482 - accuracy: 0.0082 - 250ms/epoch - 3ms/step\n",
      "Epoch 4/300\n",
      "80/80 - 0s - loss: 0.7419 - accuracy: 0.0082 - 250ms/epoch - 3ms/step\n",
      "Epoch 5/300\n",
      "80/80 - 0s - loss: 0.7318 - accuracy: 0.0082 - 256ms/epoch - 3ms/step\n",
      "Epoch 6/300\n",
      "80/80 - 0s - loss: 0.7190 - accuracy: 0.0082 - 256ms/epoch - 3ms/step\n",
      "Epoch 7/300\n",
      "80/80 - 0s - loss: 0.7000 - accuracy: 0.0082 - 259ms/epoch - 3ms/step\n",
      "Epoch 8/300\n",
      "80/80 - 0s - loss: 0.6714 - accuracy: 0.0082 - 271ms/epoch - 3ms/step\n",
      "Epoch 9/300\n",
      "80/80 - 0s - loss: 0.6660 - accuracy: 0.0082 - 282ms/epoch - 4ms/step\n",
      "Epoch 10/300\n",
      "80/80 - 0s - loss: 0.6457 - accuracy: 0.0082 - 279ms/epoch - 3ms/step\n",
      "Epoch 11/300\n",
      "80/80 - 0s - loss: 0.5857 - accuracy: 0.0082 - 259ms/epoch - 3ms/step\n",
      "Epoch 12/300\n",
      "80/80 - 0s - loss: 0.5408 - accuracy: 0.0082 - 248ms/epoch - 3ms/step\n",
      "Epoch 13/300\n",
      "80/80 - 0s - loss: 0.5091 - accuracy: 0.0082 - 244ms/epoch - 3ms/step\n",
      "Epoch 14/300\n",
      "80/80 - 0s - loss: 0.6658 - accuracy: 0.0082 - 258ms/epoch - 3ms/step\n",
      "Epoch 15/300\n",
      "80/80 - 0s - loss: 0.4739 - accuracy: 0.0082 - 266ms/epoch - 3ms/step\n",
      "Epoch 16/300\n",
      "80/80 - 0s - loss: 0.4401 - accuracy: 0.0082 - 406ms/epoch - 5ms/step\n",
      "Epoch 17/300\n",
      "80/80 - 0s - loss: 0.4206 - accuracy: 0.0082 - 290ms/epoch - 4ms/step\n",
      "Epoch 18/300\n",
      "80/80 - 0s - loss: 0.4055 - accuracy: 0.0082 - 291ms/epoch - 4ms/step\n",
      "Epoch 19/300\n",
      "80/80 - 0s - loss: 0.3949 - accuracy: 0.0082 - 294ms/epoch - 4ms/step\n",
      "Epoch 20/300\n",
      "80/80 - 0s - loss: 0.3847 - accuracy: 0.0082 - 361ms/epoch - 5ms/step\n",
      "Epoch 21/300\n",
      "80/80 - 0s - loss: 0.3803 - accuracy: 0.0082 - 301ms/epoch - 4ms/step\n",
      "Epoch 22/300\n",
      "80/80 - 0s - loss: 0.3721 - accuracy: 0.0082 - 298ms/epoch - 4ms/step\n",
      "Epoch 23/300\n",
      "80/80 - 0s - loss: 0.3636 - accuracy: 0.0082 - 265ms/epoch - 3ms/step\n",
      "Epoch 24/300\n",
      "80/80 - 0s - loss: 0.3621 - accuracy: 0.0082 - 242ms/epoch - 3ms/step\n",
      "Epoch 25/300\n",
      "80/80 - 0s - loss: 0.3535 - accuracy: 0.0082 - 244ms/epoch - 3ms/step\n",
      "Epoch 26/300\n",
      "80/80 - 0s - loss: 0.4480 - accuracy: 0.0082 - 260ms/epoch - 3ms/step\n",
      "Epoch 27/300\n",
      "80/80 - 0s - loss: 0.3844 - accuracy: 0.0082 - 252ms/epoch - 3ms/step\n",
      "Epoch 28/300\n",
      "80/80 - 0s - loss: 0.3787 - accuracy: 0.0082 - 244ms/epoch - 3ms/step\n",
      "Epoch 29/300\n",
      "80/80 - 0s - loss: 0.3580 - accuracy: 0.0082 - 246ms/epoch - 3ms/step\n",
      "Epoch 30/300\n",
      "80/80 - 0s - loss: 0.3515 - accuracy: 0.0082 - 244ms/epoch - 3ms/step\n",
      "Epoch 31/300\n",
      "80/80 - 0s - loss: 0.3463 - accuracy: 0.0082 - 245ms/epoch - 3ms/step\n",
      "Epoch 32/300\n",
      "80/80 - 0s - loss: 0.3409 - accuracy: 0.0082 - 244ms/epoch - 3ms/step\n",
      "Epoch 33/300\n",
      "80/80 - 0s - loss: 0.3355 - accuracy: 0.0082 - 248ms/epoch - 3ms/step\n",
      "Epoch 34/300\n",
      "80/80 - 0s - loss: 0.3311 - accuracy: 0.0082 - 243ms/epoch - 3ms/step\n",
      "Epoch 35/300\n",
      "80/80 - 0s - loss: 0.3264 - accuracy: 0.0082 - 247ms/epoch - 3ms/step\n",
      "Epoch 36/300\n",
      "80/80 - 0s - loss: 0.3208 - accuracy: 0.0082 - 242ms/epoch - 3ms/step\n",
      "Epoch 37/300\n",
      "80/80 - 0s - loss: 0.3160 - accuracy: 0.0082 - 246ms/epoch - 3ms/step\n",
      "Epoch 38/300\n",
      "80/80 - 0s - loss: 0.3107 - accuracy: 0.0082 - 242ms/epoch - 3ms/step\n",
      "Epoch 39/300\n",
      "80/80 - 0s - loss: 0.3091 - accuracy: 0.0082 - 246ms/epoch - 3ms/step\n",
      "Epoch 40/300\n",
      "80/80 - 0s - loss: 0.2982 - accuracy: 0.0082 - 244ms/epoch - 3ms/step\n",
      "Epoch 41/300\n",
      "80/80 - 0s - loss: 0.2909 - accuracy: 0.0082 - 242ms/epoch - 3ms/step\n",
      "Epoch 42/300\n",
      "80/80 - 0s - loss: 0.2863 - accuracy: 0.0082 - 237ms/epoch - 3ms/step\n",
      "Epoch 43/300\n",
      "80/80 - 0s - loss: 0.2831 - accuracy: 0.0082 - 249ms/epoch - 3ms/step\n",
      "Epoch 44/300\n",
      "80/80 - 0s - loss: 0.2795 - accuracy: 0.0082 - 247ms/epoch - 3ms/step\n",
      "Epoch 45/300\n",
      "80/80 - 0s - loss: 0.2789 - accuracy: 0.0082 - 243ms/epoch - 3ms/step\n",
      "Epoch 46/300\n",
      "80/80 - 0s - loss: 0.2754 - accuracy: 0.0082 - 242ms/epoch - 3ms/step\n",
      "Epoch 47/300\n",
      "80/80 - 0s - loss: 0.2740 - accuracy: 0.0082 - 243ms/epoch - 3ms/step\n",
      "Epoch 48/300\n",
      "80/80 - 0s - loss: 0.2684 - accuracy: 0.0082 - 240ms/epoch - 3ms/step\n",
      "Epoch 49/300\n",
      "80/80 - 0s - loss: 0.2685 - accuracy: 0.0082 - 246ms/epoch - 3ms/step\n",
      "Epoch 50/300\n",
      "80/80 - 0s - loss: 0.2665 - accuracy: 0.0082 - 296ms/epoch - 4ms/step\n",
      "Epoch 51/300\n",
      "80/80 - 0s - loss: 0.3978 - accuracy: 0.0082 - 253ms/epoch - 3ms/step\n",
      "Epoch 52/300\n",
      "80/80 - 0s - loss: 0.3826 - accuracy: 0.0082 - 256ms/epoch - 3ms/step\n",
      "Epoch 53/300\n",
      "80/80 - 0s - loss: 0.3104 - accuracy: 0.0082 - 291ms/epoch - 4ms/step\n",
      "Epoch 54/300\n",
      "80/80 - 0s - loss: 0.2695 - accuracy: 0.0082 - 292ms/epoch - 4ms/step\n",
      "Epoch 55/300\n",
      "80/80 - 0s - loss: 0.2632 - accuracy: 0.0082 - 303ms/epoch - 4ms/step\n",
      "Epoch 56/300\n",
      "80/80 - 0s - loss: 0.2612 - accuracy: 0.0082 - 252ms/epoch - 3ms/step\n",
      "Epoch 57/300\n",
      "80/80 - 0s - loss: 0.2584 - accuracy: 0.0082 - 245ms/epoch - 3ms/step\n",
      "Epoch 58/300\n",
      "80/80 - 0s - loss: 0.2569 - accuracy: 0.0082 - 294ms/epoch - 4ms/step\n",
      "Epoch 59/300\n",
      "80/80 - 0s - loss: 0.2551 - accuracy: 0.0082 - 294ms/epoch - 4ms/step\n",
      "Epoch 60/300\n",
      "80/80 - 0s - loss: 0.2535 - accuracy: 0.0082 - 243ms/epoch - 3ms/step\n",
      "Epoch 61/300\n",
      "80/80 - 0s - loss: 0.2522 - accuracy: 0.0082 - 264ms/epoch - 3ms/step\n",
      "Epoch 62/300\n",
      "80/80 - 0s - loss: 0.2508 - accuracy: 0.0082 - 262ms/epoch - 3ms/step\n",
      "Epoch 63/300\n",
      "80/80 - 0s - loss: 0.2496 - accuracy: 0.0082 - 239ms/epoch - 3ms/step\n",
      "Epoch 64/300\n",
      "80/80 - 0s - loss: 0.2483 - accuracy: 0.0082 - 242ms/epoch - 3ms/step\n",
      "Epoch 65/300\n",
      "80/80 - 0s - loss: 0.2471 - accuracy: 0.0082 - 255ms/epoch - 3ms/step\n",
      "Epoch 66/300\n",
      "80/80 - 0s - loss: 0.2459 - accuracy: 0.0082 - 249ms/epoch - 3ms/step\n",
      "Epoch 67/300\n",
      "80/80 - 0s - loss: 0.2448 - accuracy: 0.0082 - 244ms/epoch - 3ms/step\n",
      "Epoch 68/300\n",
      "80/80 - 0s - loss: 0.2436 - accuracy: 0.0082 - 257ms/epoch - 3ms/step\n",
      "Epoch 69/300\n",
      "80/80 - 0s - loss: 0.2425 - accuracy: 0.0082 - 250ms/epoch - 3ms/step\n",
      "Epoch 70/300\n",
      "80/80 - 0s - loss: 0.2413 - accuracy: 0.0082 - 242ms/epoch - 3ms/step\n",
      "Epoch 71/300\n",
      "80/80 - 0s - loss: 0.2409 - accuracy: 0.0082 - 252ms/epoch - 3ms/step\n",
      "Epoch 72/300\n",
      "80/80 - 0s - loss: 0.2393 - accuracy: 0.0082 - 285ms/epoch - 4ms/step\n",
      "Epoch 73/300\n",
      "80/80 - 0s - loss: 0.2392 - accuracy: 0.0082 - 283ms/epoch - 4ms/step\n",
      "Epoch 74/300\n",
      "80/80 - 0s - loss: 0.2380 - accuracy: 0.0082 - 303ms/epoch - 4ms/step\n",
      "Epoch 75/300\n",
      "80/80 - 0s - loss: 0.2391 - accuracy: 0.0082 - 249ms/epoch - 3ms/step\n",
      "Epoch 76/300\n",
      "80/80 - 0s - loss: 0.2413 - accuracy: 0.0082 - 246ms/epoch - 3ms/step\n",
      "Epoch 77/300\n",
      "80/80 - 0s - loss: 0.2627 - accuracy: 0.0082 - 246ms/epoch - 3ms/step\n",
      "Epoch 78/300\n",
      "80/80 - 0s - loss: 0.3756 - accuracy: 0.0082 - 246ms/epoch - 3ms/step\n",
      "Epoch 79/300\n",
      "80/80 - 0s - loss: 0.2844 - accuracy: 0.0082 - 244ms/epoch - 3ms/step\n",
      "Epoch 80/300\n",
      "80/80 - 0s - loss: 0.2712 - accuracy: 0.0082 - 239ms/epoch - 3ms/step\n",
      "Epoch 81/300\n",
      "80/80 - 0s - loss: 0.2610 - accuracy: 0.0082 - 241ms/epoch - 3ms/step\n",
      "Epoch 82/300\n",
      "80/80 - 0s - loss: 0.2506 - accuracy: 0.0082 - 248ms/epoch - 3ms/step\n",
      "Epoch 83/300\n",
      "80/80 - 0s - loss: 0.2360 - accuracy: 0.0082 - 239ms/epoch - 3ms/step\n",
      "Epoch 84/300\n",
      "80/80 - 0s - loss: 0.2316 - accuracy: 0.0082 - 239ms/epoch - 3ms/step\n",
      "Epoch 85/300\n",
      "80/80 - 0s - loss: 0.2309 - accuracy: 0.0082 - 239ms/epoch - 3ms/step\n",
      "Epoch 86/300\n",
      "80/80 - 0s - loss: 0.2286 - accuracy: 0.0082 - 248ms/epoch - 3ms/step\n",
      "Epoch 87/300\n",
      "80/80 - 0s - loss: 0.2296 - accuracy: 0.0082 - 238ms/epoch - 3ms/step\n",
      "Epoch 88/300\n",
      "80/80 - 0s - loss: 0.2298 - accuracy: 0.0082 - 276ms/epoch - 3ms/step\n",
      "Epoch 89/300\n",
      "80/80 - 0s - loss: 0.2301 - accuracy: 0.0082 - 295ms/epoch - 4ms/step\n",
      "Epoch 90/300\n",
      "80/80 - 0s - loss: 0.2298 - accuracy: 0.0082 - 277ms/epoch - 3ms/step\n",
      "Epoch 91/300\n",
      "80/80 - 0s - loss: 0.2308 - accuracy: 0.0082 - 276ms/epoch - 3ms/step\n",
      "Epoch 92/300\n",
      "80/80 - 0s - loss: 0.2289 - accuracy: 0.0082 - 276ms/epoch - 3ms/step\n",
      "Epoch 93/300\n",
      "80/80 - 0s - loss: 0.2355 - accuracy: 0.0082 - 282ms/epoch - 4ms/step\n",
      "Epoch 94/300\n",
      "80/80 - 0s - loss: 0.2315 - accuracy: 0.0082 - 306ms/epoch - 4ms/step\n",
      "Epoch 95/300\n",
      "80/80 - 0s - loss: 0.2406 - accuracy: 0.0082 - 279ms/epoch - 3ms/step\n",
      "Epoch 96/300\n",
      "80/80 - 0s - loss: 0.2328 - accuracy: 0.0082 - 271ms/epoch - 3ms/step\n",
      "Epoch 97/300\n",
      "80/80 - 0s - loss: 0.2663 - accuracy: 0.0082 - 266ms/epoch - 3ms/step\n",
      "Epoch 98/300\n",
      "80/80 - 0s - loss: 0.2969 - accuracy: 0.0082 - 378ms/epoch - 5ms/step\n",
      "Epoch 99/300\n",
      "80/80 - 0s - loss: 0.2581 - accuracy: 0.0082 - 271ms/epoch - 3ms/step\n",
      "Epoch 100/300\n",
      "80/80 - 0s - loss: 0.2325 - accuracy: 0.0082 - 265ms/epoch - 3ms/step\n",
      "Epoch 101/300\n",
      "80/80 - 0s - loss: 0.2378 - accuracy: 0.0082 - 252ms/epoch - 3ms/step\n",
      "Epoch 102/300\n",
      "80/80 - 0s - loss: 0.2246 - accuracy: 0.0082 - 252ms/epoch - 3ms/step\n",
      "Epoch 103/300\n",
      "80/80 - 0s - loss: 0.2246 - accuracy: 0.0082 - 247ms/epoch - 3ms/step\n",
      "Epoch 104/300\n",
      "80/80 - 0s - loss: 0.2223 - accuracy: 0.0082 - 277ms/epoch - 3ms/step\n",
      "Epoch 105/300\n",
      "80/80 - 0s - loss: 0.2237 - accuracy: 0.0082 - 271ms/epoch - 3ms/step\n",
      "Epoch 106/300\n",
      "80/80 - 0s - loss: 0.2222 - accuracy: 0.0082 - 267ms/epoch - 3ms/step\n",
      "Epoch 107/300\n",
      "80/80 - 0s - loss: 0.2230 - accuracy: 0.0082 - 296ms/epoch - 4ms/step\n",
      "Epoch 108/300\n",
      "80/80 - 0s - loss: 0.2215 - accuracy: 0.0082 - 403ms/epoch - 5ms/step\n",
      "Epoch 109/300\n",
      "80/80 - 0s - loss: 0.2228 - accuracy: 0.0082 - 305ms/epoch - 4ms/step\n",
      "Epoch 110/300\n",
      "80/80 - 0s - loss: 0.2213 - accuracy: 0.0082 - 262ms/epoch - 3ms/step\n",
      "Epoch 111/300\n",
      "80/80 - 0s - loss: 0.2232 - accuracy: 0.0082 - 307ms/epoch - 4ms/step\n",
      "Epoch 112/300\n",
      "80/80 - 0s - loss: 0.2215 - accuracy: 0.0082 - 288ms/epoch - 4ms/step\n",
      "Epoch 113/300\n",
      "80/80 - 0s - loss: 0.2240 - accuracy: 0.0082 - 275ms/epoch - 3ms/step\n",
      "Epoch 114/300\n",
      "80/80 - 0s - loss: 0.2209 - accuracy: 0.0082 - 276ms/epoch - 3ms/step\n",
      "Epoch 115/300\n",
      "80/80 - 0s - loss: 0.2228 - accuracy: 0.0082 - 284ms/epoch - 4ms/step\n",
      "Epoch 116/300\n",
      "80/80 - 0s - loss: 0.2193 - accuracy: 0.0082 - 403ms/epoch - 5ms/step\n",
      "Epoch 117/300\n",
      "80/80 - 0s - loss: 0.2208 - accuracy: 0.0082 - 291ms/epoch - 4ms/step\n",
      "Epoch 118/300\n",
      "80/80 - 0s - loss: 0.2177 - accuracy: 0.0082 - 281ms/epoch - 4ms/step\n",
      "Epoch 119/300\n",
      "80/80 - 0s - loss: 0.2193 - accuracy: 0.0082 - 257ms/epoch - 3ms/step\n",
      "Epoch 120/300\n",
      "80/80 - 0s - loss: 0.2170 - accuracy: 0.0082 - 245ms/epoch - 3ms/step\n",
      "Epoch 121/300\n",
      "80/80 - 0s - loss: 0.2189 - accuracy: 0.0082 - 246ms/epoch - 3ms/step\n",
      "Epoch 122/300\n",
      "80/80 - 0s - loss: 0.2170 - accuracy: 0.0082 - 262ms/epoch - 3ms/step\n",
      "Epoch 123/300\n",
      "80/80 - 0s - loss: 0.2193 - accuracy: 0.0082 - 250ms/epoch - 3ms/step\n",
      "Epoch 124/300\n",
      "80/80 - 0s - loss: 0.2171 - accuracy: 0.0082 - 279ms/epoch - 3ms/step\n",
      "Epoch 125/300\n",
      "80/80 - 0s - loss: 0.2213 - accuracy: 0.0082 - 294ms/epoch - 4ms/step\n",
      "Epoch 126/300\n",
      "80/80 - 0s - loss: 0.2182 - accuracy: 0.0082 - 344ms/epoch - 4ms/step\n",
      "Epoch 127/300\n",
      "80/80 - 0s - loss: 0.2256 - accuracy: 0.0082 - 295ms/epoch - 4ms/step\n",
      "Epoch 128/300\n",
      "80/80 - 0s - loss: 0.2225 - accuracy: 0.0082 - 250ms/epoch - 3ms/step\n",
      "Epoch 129/300\n",
      "80/80 - 0s - loss: 0.2410 - accuracy: 0.0082 - 269ms/epoch - 3ms/step\n",
      "Epoch 130/300\n",
      "80/80 - 0s - loss: 0.2308 - accuracy: 0.0082 - 278ms/epoch - 3ms/step\n",
      "Epoch 131/300\n",
      "80/80 - 0s - loss: 0.2615 - accuracy: 0.0082 - 275ms/epoch - 3ms/step\n",
      "Epoch 132/300\n",
      "80/80 - 0s - loss: 0.2468 - accuracy: 0.0082 - 266ms/epoch - 3ms/step\n",
      "Epoch 133/300\n",
      "80/80 - 0s - loss: 0.2836 - accuracy: 0.0082 - 264ms/epoch - 3ms/step\n",
      "Epoch 134/300\n",
      "80/80 - 0s - loss: 0.2563 - accuracy: 0.0082 - 267ms/epoch - 3ms/step\n",
      "Epoch 135/300\n",
      "80/80 - 0s - loss: 0.2199 - accuracy: 0.0082 - 256ms/epoch - 3ms/step\n",
      "Epoch 136/300\n",
      "80/80 - 0s - loss: 0.2118 - accuracy: 0.0082 - 255ms/epoch - 3ms/step\n",
      "Epoch 137/300\n",
      "80/80 - 0s - loss: 0.2117 - accuracy: 0.0082 - 250ms/epoch - 3ms/step\n",
      "Epoch 138/300\n",
      "80/80 - 0s - loss: 0.2108 - accuracy: 0.0082 - 256ms/epoch - 3ms/step\n",
      "Epoch 139/300\n",
      "80/80 - 0s - loss: 0.2108 - accuracy: 0.0082 - 263ms/epoch - 3ms/step\n",
      "Epoch 140/300\n",
      "80/80 - 0s - loss: 0.2102 - accuracy: 0.0082 - 249ms/epoch - 3ms/step\n",
      "Epoch 141/300\n",
      "80/80 - 0s - loss: 0.2108 - accuracy: 0.0082 - 239ms/epoch - 3ms/step\n",
      "Epoch 142/300\n",
      "80/80 - 0s - loss: 0.2099 - accuracy: 0.0082 - 278ms/epoch - 3ms/step\n",
      "Epoch 143/300\n",
      "80/80 - 0s - loss: 0.2104 - accuracy: 0.0082 - 282ms/epoch - 4ms/step\n",
      "Epoch 144/300\n",
      "80/80 - 0s - loss: 0.2090 - accuracy: 0.0082 - 250ms/epoch - 3ms/step\n",
      "Epoch 145/300\n",
      "80/80 - 0s - loss: 0.2097 - accuracy: 0.0082 - 254ms/epoch - 3ms/step\n",
      "Epoch 146/300\n",
      "80/80 - 0s - loss: 0.2089 - accuracy: 0.0082 - 258ms/epoch - 3ms/step\n",
      "Epoch 147/300\n",
      "80/80 - 0s - loss: 0.2102 - accuracy: 0.0082 - 248ms/epoch - 3ms/step\n",
      "Epoch 148/300\n",
      "80/80 - 0s - loss: 0.2093 - accuracy: 0.0082 - 243ms/epoch - 3ms/step\n",
      "Epoch 149/300\n",
      "80/80 - 0s - loss: 0.2123 - accuracy: 0.0082 - 244ms/epoch - 3ms/step\n",
      "Epoch 150/300\n",
      "80/80 - 0s - loss: 0.2111 - accuracy: 0.0082 - 251ms/epoch - 3ms/step\n",
      "Epoch 151/300\n",
      "80/80 - 0s - loss: 0.2134 - accuracy: 0.0082 - 244ms/epoch - 3ms/step\n",
      "Epoch 152/300\n",
      "80/80 - 0s - loss: 0.2095 - accuracy: 0.0082 - 246ms/epoch - 3ms/step\n",
      "Epoch 153/300\n",
      "80/80 - 0s - loss: 0.2109 - accuracy: 0.0082 - 240ms/epoch - 3ms/step\n",
      "Epoch 154/300\n",
      "80/80 - 0s - loss: 0.2081 - accuracy: 0.0082 - 245ms/epoch - 3ms/step\n",
      "Epoch 155/300\n",
      "80/80 - 0s - loss: 0.2095 - accuracy: 0.0082 - 245ms/epoch - 3ms/step\n",
      "Epoch 156/300\n",
      "80/80 - 0s - loss: 0.2068 - accuracy: 0.0082 - 245ms/epoch - 3ms/step\n",
      "Epoch 157/300\n",
      "80/80 - 0s - loss: 0.2087 - accuracy: 0.0082 - 262ms/epoch - 3ms/step\n",
      "Epoch 158/300\n",
      "80/80 - 0s - loss: 0.2075 - accuracy: 0.0082 - 257ms/epoch - 3ms/step\n",
      "Epoch 159/300\n",
      "80/80 - 0s - loss: 0.2107 - accuracy: 0.0082 - 249ms/epoch - 3ms/step\n",
      "Epoch 160/300\n",
      "80/80 - 0s - loss: 0.2089 - accuracy: 0.0082 - 245ms/epoch - 3ms/step\n",
      "Epoch 161/300\n",
      "80/80 - 0s - loss: 0.2102 - accuracy: 0.0082 - 242ms/epoch - 3ms/step\n",
      "Epoch 162/300\n",
      "80/80 - 0s - loss: 0.2063 - accuracy: 0.0082 - 245ms/epoch - 3ms/step\n",
      "Epoch 163/300\n",
      "80/80 - 0s - loss: 0.2073 - accuracy: 0.0082 - 240ms/epoch - 3ms/step\n",
      "Epoch 164/300\n",
      "80/80 - 0s - loss: 0.2049 - accuracy: 0.0082 - 245ms/epoch - 3ms/step\n",
      "Epoch 165/300\n",
      "80/80 - 0s - loss: 0.2078 - accuracy: 0.0082 - 241ms/epoch - 3ms/step\n",
      "Epoch 166/300\n",
      "80/80 - 0s - loss: 0.2055 - accuracy: 0.0082 - 244ms/epoch - 3ms/step\n",
      "Epoch 167/300\n",
      "80/80 - 0s - loss: 0.2123 - accuracy: 0.0082 - 242ms/epoch - 3ms/step\n",
      "Epoch 168/300\n",
      "80/80 - 0s - loss: 0.2101 - accuracy: 0.0082 - 244ms/epoch - 3ms/step\n",
      "Epoch 169/300\n",
      "80/80 - 0s - loss: 0.2228 - accuracy: 0.0082 - 240ms/epoch - 3ms/step\n",
      "Epoch 170/300\n",
      "80/80 - 0s - loss: 0.2149 - accuracy: 0.0082 - 243ms/epoch - 3ms/step\n",
      "Epoch 171/300\n",
      "80/80 - 0s - loss: 0.2660 - accuracy: 0.0082 - 240ms/epoch - 3ms/step\n",
      "Epoch 172/300\n",
      "80/80 - 0s - loss: 0.2216 - accuracy: 0.0082 - 244ms/epoch - 3ms/step\n",
      "Epoch 173/300\n",
      "80/80 - 0s - loss: 0.2088 - accuracy: 0.0082 - 241ms/epoch - 3ms/step\n",
      "Epoch 174/300\n",
      "80/80 - 0s - loss: 0.2017 - accuracy: 0.0082 - 242ms/epoch - 3ms/step\n",
      "Epoch 175/300\n",
      "80/80 - 0s - loss: 0.1999 - accuracy: 0.0082 - 242ms/epoch - 3ms/step\n",
      "Epoch 176/300\n",
      "80/80 - 0s - loss: 0.1992 - accuracy: 0.0082 - 244ms/epoch - 3ms/step\n",
      "Epoch 177/300\n",
      "80/80 - 0s - loss: 0.1988 - accuracy: 0.0082 - 242ms/epoch - 3ms/step\n",
      "Epoch 178/300\n",
      "80/80 - 0s - loss: 0.1977 - accuracy: 0.0082 - 243ms/epoch - 3ms/step\n",
      "Epoch 179/300\n",
      "80/80 - 0s - loss: 0.1984 - accuracy: 0.0082 - 244ms/epoch - 3ms/step\n",
      "Epoch 180/300\n",
      "80/80 - 0s - loss: 0.1971 - accuracy: 0.0082 - 245ms/epoch - 3ms/step\n",
      "Epoch 181/300\n",
      "80/80 - 0s - loss: 0.1985 - accuracy: 0.0082 - 243ms/epoch - 3ms/step\n",
      "Epoch 182/300\n",
      "80/80 - 0s - loss: 0.1993 - accuracy: 0.0082 - 245ms/epoch - 3ms/step\n",
      "Epoch 183/300\n",
      "80/80 - 0s - loss: 0.2000 - accuracy: 0.0082 - 243ms/epoch - 3ms/step\n",
      "Epoch 184/300\n",
      "80/80 - 0s - loss: 0.2004 - accuracy: 0.0082 - 244ms/epoch - 3ms/step\n",
      "Epoch 185/300\n",
      "80/80 - 0s - loss: 0.2005 - accuracy: 0.0082 - 243ms/epoch - 3ms/step\n",
      "Epoch 186/300\n",
      "80/80 - 0s - loss: 0.1998 - accuracy: 0.0082 - 245ms/epoch - 3ms/step\n",
      "Epoch 187/300\n",
      "80/80 - 0s - loss: 0.2006 - accuracy: 0.0082 - 240ms/epoch - 3ms/step\n",
      "Epoch 188/300\n",
      "80/80 - 0s - loss: 0.1983 - accuracy: 0.0082 - 243ms/epoch - 3ms/step\n",
      "Epoch 189/300\n",
      "80/80 - 0s - loss: 0.2004 - accuracy: 0.0082 - 241ms/epoch - 3ms/step\n",
      "Epoch 190/300\n",
      "80/80 - 0s - loss: 0.1975 - accuracy: 0.0082 - 246ms/epoch - 3ms/step\n",
      "Epoch 191/300\n",
      "80/80 - 0s - loss: 0.1994 - accuracy: 0.0082 - 244ms/epoch - 3ms/step\n",
      "Epoch 192/300\n",
      "80/80 - 0s - loss: 0.1979 - accuracy: 0.0082 - 245ms/epoch - 3ms/step\n",
      "Epoch 193/300\n",
      "80/80 - 0s - loss: 0.1978 - accuracy: 0.0082 - 243ms/epoch - 3ms/step\n",
      "Epoch 194/300\n",
      "80/80 - 0s - loss: 0.1986 - accuracy: 0.0082 - 241ms/epoch - 3ms/step\n",
      "Epoch 195/300\n",
      "80/80 - 0s - loss: 0.1993 - accuracy: 0.0082 - 245ms/epoch - 3ms/step\n",
      "Epoch 196/300\n",
      "80/80 - 0s - loss: 0.1941 - accuracy: 0.0082 - 242ms/epoch - 3ms/step\n",
      "Epoch 197/300\n",
      "80/80 - 0s - loss: 0.1942 - accuracy: 0.0082 - 244ms/epoch - 3ms/step\n",
      "Epoch 198/300\n",
      "80/80 - 0s - loss: 0.1924 - accuracy: 0.0082 - 242ms/epoch - 3ms/step\n",
      "Epoch 199/300\n",
      "80/80 - 0s - loss: 0.1923 - accuracy: 0.0082 - 239ms/epoch - 3ms/step\n",
      "Epoch 200/300\n",
      "80/80 - 0s - loss: 0.1912 - accuracy: 0.0082 - 242ms/epoch - 3ms/step\n",
      "Epoch 201/300\n",
      "80/80 - 0s - loss: 0.1916 - accuracy: 0.0082 - 246ms/epoch - 3ms/step\n",
      "Epoch 202/300\n",
      "80/80 - 0s - loss: 0.1913 - accuracy: 0.0082 - 242ms/epoch - 3ms/step\n",
      "Epoch 203/300\n",
      "80/80 - 0s - loss: 0.1915 - accuracy: 0.0082 - 244ms/epoch - 3ms/step\n",
      "Epoch 204/300\n",
      "80/80 - 0s - loss: 0.1911 - accuracy: 0.0082 - 243ms/epoch - 3ms/step\n",
      "Epoch 205/300\n",
      "80/80 - 0s - loss: 0.1932 - accuracy: 0.0082 - 243ms/epoch - 3ms/step\n",
      "Epoch 206/300\n",
      "80/80 - 0s - loss: 0.1964 - accuracy: 0.0082 - 241ms/epoch - 3ms/step\n",
      "Epoch 207/300\n",
      "80/80 - 0s - loss: 0.1974 - accuracy: 0.0082 - 242ms/epoch - 3ms/step\n",
      "Epoch 208/300\n",
      "80/80 - 0s - loss: 0.1943 - accuracy: 0.0082 - 242ms/epoch - 3ms/step\n",
      "Epoch 209/300\n",
      "80/80 - 0s - loss: 0.1935 - accuracy: 0.0082 - 243ms/epoch - 3ms/step\n",
      "Epoch 210/300\n",
      "80/80 - 0s - loss: 0.1891 - accuracy: 0.0082 - 241ms/epoch - 3ms/step\n",
      "Epoch 211/300\n",
      "80/80 - 0s - loss: 0.1881 - accuracy: 0.0082 - 243ms/epoch - 3ms/step\n",
      "Epoch 212/300\n",
      "80/80 - 0s - loss: 0.1853 - accuracy: 0.0082 - 243ms/epoch - 3ms/step\n",
      "Epoch 213/300\n",
      "80/80 - 0s - loss: 0.1845 - accuracy: 0.0082 - 243ms/epoch - 3ms/step\n",
      "Epoch 214/300\n",
      "80/80 - 0s - loss: 0.1833 - accuracy: 0.0082 - 240ms/epoch - 3ms/step\n",
      "Epoch 215/300\n",
      "80/80 - 0s - loss: 0.1832 - accuracy: 0.0082 - 298ms/epoch - 4ms/step\n",
      "Epoch 216/300\n",
      "80/80 - 0s - loss: 0.1826 - accuracy: 0.0082 - 246ms/epoch - 3ms/step\n",
      "Epoch 217/300\n",
      "80/80 - 0s - loss: 0.1840 - accuracy: 0.0082 - 243ms/epoch - 3ms/step\n",
      "Epoch 218/300\n",
      "80/80 - 0s - loss: 0.1838 - accuracy: 0.0082 - 241ms/epoch - 3ms/step\n",
      "Epoch 219/300\n",
      "80/80 - 0s - loss: 0.1856 - accuracy: 0.0082 - 243ms/epoch - 3ms/step\n",
      "Epoch 220/300\n",
      "80/80 - 0s - loss: 0.1845 - accuracy: 0.0082 - 245ms/epoch - 3ms/step\n",
      "Epoch 221/300\n",
      "80/80 - 0s - loss: 0.1867 - accuracy: 0.0082 - 242ms/epoch - 3ms/step\n",
      "Epoch 222/300\n",
      "80/80 - 0s - loss: 0.1853 - accuracy: 0.0082 - 244ms/epoch - 3ms/step\n",
      "Epoch 223/300\n",
      "80/80 - 0s - loss: 0.1861 - accuracy: 0.0082 - 243ms/epoch - 3ms/step\n",
      "Epoch 224/300\n",
      "80/80 - 0s - loss: 0.1833 - accuracy: 0.0082 - 239ms/epoch - 3ms/step\n",
      "Epoch 225/300\n",
      "80/80 - 0s - loss: 0.1841 - accuracy: 0.0082 - 240ms/epoch - 3ms/step\n",
      "Epoch 226/300\n",
      "80/80 - 0s - loss: 0.1804 - accuracy: 0.0082 - 242ms/epoch - 3ms/step\n",
      "Epoch 227/300\n",
      "80/80 - 0s - loss: 0.1801 - accuracy: 0.0082 - 243ms/epoch - 3ms/step\n",
      "Epoch 228/300\n",
      "80/80 - 0s - loss: 0.1789 - accuracy: 0.0082 - 240ms/epoch - 3ms/step\n",
      "Epoch 229/300\n",
      "80/80 - 0s - loss: 0.1782 - accuracy: 0.0082 - 243ms/epoch - 3ms/step\n",
      "Epoch 230/300\n",
      "80/80 - 0s - loss: 0.1771 - accuracy: 0.0082 - 244ms/epoch - 3ms/step\n",
      "Epoch 231/300\n",
      "80/80 - 0s - loss: 0.1769 - accuracy: 0.0082 - 249ms/epoch - 3ms/step\n",
      "Epoch 232/300\n",
      "80/80 - 0s - loss: 0.1759 - accuracy: 0.0082 - 243ms/epoch - 3ms/step\n",
      "Epoch 233/300\n",
      "80/80 - 0s - loss: 0.1767 - accuracy: 0.0082 - 245ms/epoch - 3ms/step\n",
      "Epoch 234/300\n",
      "80/80 - 0s - loss: 0.1758 - accuracy: 0.0082 - 244ms/epoch - 3ms/step\n",
      "Epoch 235/300\n",
      "80/80 - 0s - loss: 0.1774 - accuracy: 0.0082 - 239ms/epoch - 3ms/step\n",
      "Epoch 236/300\n",
      "80/80 - 0s - loss: 0.1771 - accuracy: 0.0082 - 243ms/epoch - 3ms/step\n",
      "Epoch 237/300\n",
      "80/80 - 0s - loss: 0.1780 - accuracy: 0.0082 - 249ms/epoch - 3ms/step\n",
      "Epoch 238/300\n",
      "80/80 - 0s - loss: 0.1773 - accuracy: 0.0082 - 243ms/epoch - 3ms/step\n",
      "Epoch 239/300\n",
      "80/80 - 0s - loss: 0.1769 - accuracy: 0.0082 - 242ms/epoch - 3ms/step\n",
      "Epoch 240/300\n",
      "80/80 - 0s - loss: 0.1742 - accuracy: 0.0082 - 245ms/epoch - 3ms/step\n",
      "Epoch 241/300\n",
      "80/80 - 0s - loss: 0.1740 - accuracy: 0.0082 - 245ms/epoch - 3ms/step\n",
      "Epoch 242/300\n",
      "80/80 - 0s - loss: 0.1726 - accuracy: 0.0082 - 243ms/epoch - 3ms/step\n",
      "Epoch 243/300\n",
      "80/80 - 0s - loss: 0.1719 - accuracy: 0.0082 - 242ms/epoch - 3ms/step\n",
      "Epoch 244/300\n",
      "80/80 - 0s - loss: 0.1715 - accuracy: 0.0082 - 240ms/epoch - 3ms/step\n",
      "Epoch 245/300\n",
      "80/80 - 0s - loss: 0.1720 - accuracy: 0.0082 - 261ms/epoch - 3ms/step\n",
      "Epoch 246/300\n",
      "80/80 - 0s - loss: 0.1726 - accuracy: 0.0082 - 241ms/epoch - 3ms/step\n",
      "Epoch 247/300\n",
      "80/80 - 0s - loss: 0.1743 - accuracy: 0.0082 - 242ms/epoch - 3ms/step\n",
      "Epoch 248/300\n",
      "80/80 - 0s - loss: 0.1711 - accuracy: 0.0082 - 245ms/epoch - 3ms/step\n",
      "Epoch 249/300\n",
      "80/80 - 0s - loss: 0.1717 - accuracy: 0.0082 - 242ms/epoch - 3ms/step\n",
      "Epoch 250/300\n",
      "80/80 - 0s - loss: 0.1717 - accuracy: 0.0082 - 245ms/epoch - 3ms/step\n",
      "Epoch 251/300\n",
      "80/80 - 0s - loss: 0.1709 - accuracy: 0.0082 - 240ms/epoch - 3ms/step\n",
      "Epoch 252/300\n",
      "80/80 - 0s - loss: 0.1723 - accuracy: 0.0082 - 242ms/epoch - 3ms/step\n",
      "Epoch 253/300\n",
      "80/80 - 0s - loss: 0.1696 - accuracy: 0.0082 - 242ms/epoch - 3ms/step\n",
      "Epoch 254/300\n",
      "80/80 - 0s - loss: 0.1686 - accuracy: 0.0082 - 244ms/epoch - 3ms/step\n",
      "Epoch 255/300\n",
      "80/80 - 0s - loss: 0.1690 - accuracy: 0.0082 - 238ms/epoch - 3ms/step\n",
      "Epoch 256/300\n",
      "80/80 - 0s - loss: 0.1687 - accuracy: 0.0082 - 242ms/epoch - 3ms/step\n",
      "Epoch 257/300\n",
      "80/80 - 0s - loss: 0.1682 - accuracy: 0.0082 - 240ms/epoch - 3ms/step\n",
      "Epoch 258/300\n",
      "80/80 - 0s - loss: 0.1674 - accuracy: 0.0082 - 241ms/epoch - 3ms/step\n",
      "Epoch 259/300\n",
      "80/80 - 0s - loss: 0.1681 - accuracy: 0.0082 - 243ms/epoch - 3ms/step\n",
      "Epoch 260/300\n",
      "80/80 - 0s - loss: 0.1657 - accuracy: 0.0082 - 244ms/epoch - 3ms/step\n",
      "Epoch 261/300\n",
      "80/80 - 0s - loss: 0.1647 - accuracy: 0.0082 - 240ms/epoch - 3ms/step\n",
      "Epoch 262/300\n",
      "80/80 - 0s - loss: 0.1648 - accuracy: 0.0082 - 243ms/epoch - 3ms/step\n",
      "Epoch 263/300\n",
      "80/80 - 0s - loss: 0.1638 - accuracy: 0.0082 - 244ms/epoch - 3ms/step\n",
      "Epoch 264/300\n",
      "80/80 - 0s - loss: 0.1653 - accuracy: 0.0082 - 251ms/epoch - 3ms/step\n",
      "Epoch 265/300\n",
      "80/80 - 0s - loss: 0.1662 - accuracy: 0.0082 - 244ms/epoch - 3ms/step\n",
      "Epoch 266/300\n",
      "80/80 - 0s - loss: 0.1650 - accuracy: 0.0082 - 246ms/epoch - 3ms/step\n",
      "Epoch 267/300\n",
      "80/80 - 0s - loss: 0.1682 - accuracy: 0.0082 - 245ms/epoch - 3ms/step\n",
      "Epoch 268/300\n",
      "80/80 - 0s - loss: 0.1676 - accuracy: 0.0082 - 244ms/epoch - 3ms/step\n",
      "Epoch 269/300\n",
      "80/80 - 0s - loss: 0.1654 - accuracy: 0.0082 - 242ms/epoch - 3ms/step\n",
      "Epoch 270/300\n",
      "80/80 - 0s - loss: 0.1642 - accuracy: 0.0082 - 244ms/epoch - 3ms/step\n",
      "Epoch 271/300\n",
      "80/80 - 0s - loss: 0.1634 - accuracy: 0.0082 - 240ms/epoch - 3ms/step\n",
      "Epoch 272/300\n",
      "80/80 - 0s - loss: 0.1619 - accuracy: 0.0082 - 245ms/epoch - 3ms/step\n",
      "Epoch 273/300\n",
      "80/80 - 0s - loss: 0.1614 - accuracy: 0.0082 - 244ms/epoch - 3ms/step\n",
      "Epoch 274/300\n",
      "80/80 - 0s - loss: 0.1602 - accuracy: 0.0082 - 253ms/epoch - 3ms/step\n",
      "Epoch 275/300\n",
      "80/80 - 0s - loss: 0.1600 - accuracy: 0.0082 - 264ms/epoch - 3ms/step\n",
      "Epoch 276/300\n",
      "80/80 - 0s - loss: 0.1587 - accuracy: 0.0082 - 251ms/epoch - 3ms/step\n",
      "Epoch 277/300\n",
      "80/80 - 0s - loss: 0.1585 - accuracy: 0.0082 - 255ms/epoch - 3ms/step\n",
      "Epoch 278/300\n",
      "80/80 - 0s - loss: 0.1582 - accuracy: 0.0082 - 254ms/epoch - 3ms/step\n",
      "Epoch 279/300\n",
      "80/80 - 0s - loss: 0.1579 - accuracy: 0.0082 - 241ms/epoch - 3ms/step\n",
      "Epoch 280/300\n",
      "80/80 - 0s - loss: 0.1570 - accuracy: 0.0082 - 258ms/epoch - 3ms/step\n",
      "Epoch 281/300\n",
      "80/80 - 0s - loss: 0.1566 - accuracy: 0.0082 - 267ms/epoch - 3ms/step\n",
      "Epoch 282/300\n",
      "80/80 - 0s - loss: 0.1562 - accuracy: 0.0082 - 268ms/epoch - 3ms/step\n",
      "Epoch 283/300\n",
      "80/80 - 0s - loss: 0.1565 - accuracy: 0.0082 - 264ms/epoch - 3ms/step\n",
      "Epoch 284/300\n",
      "80/80 - 0s - loss: 0.1560 - accuracy: 0.0082 - 267ms/epoch - 3ms/step\n",
      "Epoch 285/300\n",
      "80/80 - 0s - loss: 0.1561 - accuracy: 0.0082 - 254ms/epoch - 3ms/step\n",
      "Epoch 286/300\n",
      "80/80 - 0s - loss: 0.1554 - accuracy: 0.0082 - 248ms/epoch - 3ms/step\n",
      "Epoch 287/300\n",
      "80/80 - 0s - loss: 0.1557 - accuracy: 0.0082 - 246ms/epoch - 3ms/step\n",
      "Epoch 288/300\n",
      "80/80 - 0s - loss: 0.1555 - accuracy: 0.0082 - 250ms/epoch - 3ms/step\n",
      "Epoch 289/300\n",
      "80/80 - 0s - loss: 0.1546 - accuracy: 0.0082 - 252ms/epoch - 3ms/step\n",
      "Epoch 290/300\n",
      "80/80 - 0s - loss: 0.1540 - accuracy: 0.0082 - 242ms/epoch - 3ms/step\n",
      "Epoch 291/300\n",
      "80/80 - 0s - loss: 0.1533 - accuracy: 0.0082 - 248ms/epoch - 3ms/step\n",
      "Epoch 292/300\n",
      "80/80 - 0s - loss: 0.1529 - accuracy: 0.0082 - 334ms/epoch - 4ms/step\n",
      "Epoch 293/300\n",
      "80/80 - 0s - loss: 0.1522 - accuracy: 0.0082 - 271ms/epoch - 3ms/step\n",
      "Epoch 294/300\n",
      "80/80 - 0s - loss: 0.1529 - accuracy: 0.0082 - 250ms/epoch - 3ms/step\n",
      "Epoch 295/300\n",
      "80/80 - 0s - loss: 0.1521 - accuracy: 0.0082 - 244ms/epoch - 3ms/step\n",
      "Epoch 296/300\n",
      "80/80 - 0s - loss: 0.1512 - accuracy: 0.0082 - 250ms/epoch - 3ms/step\n",
      "Epoch 297/300\n",
      "80/80 - 0s - loss: 0.1511 - accuracy: 0.0082 - 244ms/epoch - 3ms/step\n",
      "Epoch 298/300\n",
      "80/80 - 0s - loss: 0.1500 - accuracy: 0.0082 - 254ms/epoch - 3ms/step\n",
      "Epoch 299/300\n",
      "80/80 - 0s - loss: 0.1491 - accuracy: 0.0082 - 250ms/epoch - 3ms/step\n",
      "Epoch 300/300\n",
      "80/80 - 0s - loss: 0.1495 - accuracy: 0.0082 - 246ms/epoch - 3ms/step\n"
     ]
    }
   ],
   "source": [
    "# 训练模型\n",
    "print(X_train.shape, Y_train.shape)\n",
    "history = model.fit(X_train, Y_train, epochs=300, verbose=2, shuffle=False)\n",
    "model.save(\"1-1.h5\")"
   ],
   "metadata": {
    "collapsed": false,
    "pycharm": {
     "name": "#%%\n"
    }
   }
  },
  {
   "cell_type": "code",
   "execution_count": 115,
   "outputs": [
    {
     "data": {
      "text/plain": "<Figure size 640x480 with 1 Axes>",
      "image/png": "[encoded data removed]"
     },
     "metadata": {},
     "output_type": "display_data"
    }
   ],
   "source": [
    "import matplotlib.pyplot as plt\n",
    "# plot history\n",
    "plt.plot(history.history['loss'], label='loss')\n",
    "#plt.plot(history.history['accuracy'], label='train')\n",
    "plt.legend()\n",
    "plt.show()"
   ],
   "metadata": {
    "collapsed": false,
    "pycharm": {
     "name": "#%%\n"
    }
   }
  },
  {
   "cell_type": "code",
   "execution_count": 123,
   "outputs": [
    {
     "name": "stdout",
     "output_type": "stream",
     "text": [
      "35/35 [==============================] - 0s 2ms/step\n"
     ]
    },
    {
     "data": {
      "text/plain": "<Figure size 640x480 with 1 Axes>",
      "image/png": "[encoded data removed]"
     },
     "metadata": {},
     "output_type": "display_data"
    }
   ],
   "source": [
    "pre_test = model.predict(X_test)[:, -1, :]\n",
    "pre_test = pre_test.reshape(pre_test.shape[0])\n",
    "\n",
    "plt.plot(pre_test, label='pre', color='red')\n",
    "plt.plot(Y_test, label='ori', color='blue')\n",
    "plt.legend()\n",
    "plt.show()"
   ],
   "metadata": {
    "collapsed": false,
    "pycharm": {
     "name": "#%%\n"
    }
   }
  },
  {
   "cell_type": "code",
   "execution_count": 124,
   "outputs": [
    {
     "name": "stdout",
     "output_type": "stream",
     "text": [
      "0.002287964498816092\n"
     ]
    }
   ],
   "source": [
    "mse = np.mean(np.square(pre_test - Y_test))/100\n",
    "print(mse)  # Output: 1.0"
   ],
   "metadata": {
    "collapsed": false,
    "pycharm": {
     "name": "#%%\n"
    }
   }
  },
  {
   "cell_type": "code",
   "execution_count": null,
   "outputs": [],
   "source": [],
   "metadata": {
    "collapsed": false,
    "pycharm": {
     "name": "#%%\n"
    }
   }
  }
 ],
 "metadata": {
  "kernelspec": {
   "display_name": "Python 3",
   "language": "python",
   "name": "python3"
  },
  "language_info": {
   "codemirror_mode": {
    "name": "ipython",
    "version": 2
   },
   "file_extension": ".py",
   "mimetype": "text/x-python",
   "name": "python",
   "nbconvert_exporter": "python",
   "pygments_lexer": "ipython2",
   "version": "2.7.6"
  }
 },
 "nbformat": 4,
 "nbformat_minor": 0
}